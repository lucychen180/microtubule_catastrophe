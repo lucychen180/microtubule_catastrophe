{
 "cells": [
  {
   "cell_type": "markdown",
   "metadata": {},
   "source": [
    "# Confidence intervals for microtubule catastrophe times\n",
    "\n",
    "The purpose of this notebook is to analyze a control experiment in the [Gardneer, Zanic, et al. paper](https://www.sciencedirect.com/science/article/pii/S0092867411012876?via%3Dihub) in which some tubulin was labeled with a fluorescent marker, and some were not. The purpose of this experiment was to make sure that fluoresceent labels and exposure to laser light did not affect the microtubule catastrophe times. So, here we will perform analyses and nonparametric inferences to verify that there is little to no difference in the two datasets."
   ]
  },
  {
   "cell_type": "markdown",
   "metadata": {},
   "source": [
    "## Imports and Loading Dataset"
   ]
  },
  {
   "cell_type": "code",
   "execution_count": 1,
   "metadata": {},
   "outputs": [
    {
     "data": {
      "text/html": [
       "\n",
       "    <div class=\"bk-root\">\n",
       "        <a href=\"https://bokeh.pydata.org\" target=\"_blank\" class=\"bk-logo bk-logo-small bk-logo-notebook\"></a>\n",
       "        <span id=\"1001\">Loading BokehJS ...</span>\n",
       "    </div>"
      ]
     },
     "metadata": {},
     "output_type": "display_data"
    },
    {
     "data": {
      "application/javascript": [
       "\n",
       "(function(root) {\n",
       "  function now() {\n",
       "    return new Date();\n",
       "  }\n",
       "\n",
       "  var force = true;\n",
       "\n",
       "  if (typeof root._bokeh_onload_callbacks === \"undefined\" || force === true) {\n",
       "    root._bokeh_onload_callbacks = [];\n",
       "    root._bokeh_is_loading = undefined;\n",
       "  }\n",
       "\n",
       "  var JS_MIME_TYPE = 'application/javascript';\n",
       "  var HTML_MIME_TYPE = 'text/html';\n",
       "  var EXEC_MIME_TYPE = 'application/vnd.bokehjs_exec.v0+json';\n",
       "  var CLASS_NAME = 'output_bokeh rendered_html';\n",
       "\n",
       "  /**\n",
       "   * Render data to the DOM node\n",
       "   */\n",
       "  function render(props, node) {\n",
       "    var script = document.createElement(\"script\");\n",
       "    node.appendChild(script);\n",
       "  }\n",
       "\n",
       "  /**\n",
       "   * Handle when an output is cleared or removed\n",
       "   */\n",
       "  function handleClearOutput(event, handle) {\n",
       "    var cell = handle.cell;\n",
       "\n",
       "    var id = cell.output_area._bokeh_element_id;\n",
       "    var server_id = cell.output_area._bokeh_server_id;\n",
       "    // Clean up Bokeh references\n",
       "    if (id != null && id in Bokeh.index) {\n",
       "      Bokeh.index[id].model.document.clear();\n",
       "      delete Bokeh.index[id];\n",
       "    }\n",
       "\n",
       "    if (server_id !== undefined) {\n",
       "      // Clean up Bokeh references\n",
       "      var cmd = \"from bokeh.io.state import curstate; print(curstate().uuid_to_server['\" + server_id + \"'].get_sessions()[0].document.roots[0]._id)\";\n",
       "      cell.notebook.kernel.execute(cmd, {\n",
       "        iopub: {\n",
       "          output: function(msg) {\n",
       "            var id = msg.content.text.trim();\n",
       "            if (id in Bokeh.index) {\n",
       "              Bokeh.index[id].model.document.clear();\n",
       "              delete Bokeh.index[id];\n",
       "            }\n",
       "          }\n",
       "        }\n",
       "      });\n",
       "      // Destroy server and session\n",
       "      var cmd = \"import bokeh.io.notebook as ion; ion.destroy_server('\" + server_id + \"')\";\n",
       "      cell.notebook.kernel.execute(cmd);\n",
       "    }\n",
       "  }\n",
       "\n",
       "  /**\n",
       "   * Handle when a new output is added\n",
       "   */\n",
       "  function handleAddOutput(event, handle) {\n",
       "    var output_area = handle.output_area;\n",
       "    var output = handle.output;\n",
       "\n",
       "    // limit handleAddOutput to display_data with EXEC_MIME_TYPE content only\n",
       "    if ((output.output_type != \"display_data\") || (!output.data.hasOwnProperty(EXEC_MIME_TYPE))) {\n",
       "      return\n",
       "    }\n",
       "\n",
       "    var toinsert = output_area.element.find(\".\" + CLASS_NAME.split(' ')[0]);\n",
       "\n",
       "    if (output.metadata[EXEC_MIME_TYPE][\"id\"] !== undefined) {\n",
       "      toinsert[toinsert.length - 1].firstChild.textContent = output.data[JS_MIME_TYPE];\n",
       "      // store reference to embed id on output_area\n",
       "      output_area._bokeh_element_id = output.metadata[EXEC_MIME_TYPE][\"id\"];\n",
       "    }\n",
       "    if (output.metadata[EXEC_MIME_TYPE][\"server_id\"] !== undefined) {\n",
       "      var bk_div = document.createElement(\"div\");\n",
       "      bk_div.innerHTML = output.data[HTML_MIME_TYPE];\n",
       "      var script_attrs = bk_div.children[0].attributes;\n",
       "      for (var i = 0; i < script_attrs.length; i++) {\n",
       "        toinsert[toinsert.length - 1].firstChild.setAttribute(script_attrs[i].name, script_attrs[i].value);\n",
       "      }\n",
       "      // store reference to server id on output_area\n",
       "      output_area._bokeh_server_id = output.metadata[EXEC_MIME_TYPE][\"server_id\"];\n",
       "    }\n",
       "  }\n",
       "\n",
       "  function register_renderer(events, OutputArea) {\n",
       "\n",
       "    function append_mime(data, metadata, element) {\n",
       "      // create a DOM node to render to\n",
       "      var toinsert = this.create_output_subarea(\n",
       "        metadata,\n",
       "        CLASS_NAME,\n",
       "        EXEC_MIME_TYPE\n",
       "      );\n",
       "      this.keyboard_manager.register_events(toinsert);\n",
       "      // Render to node\n",
       "      var props = {data: data, metadata: metadata[EXEC_MIME_TYPE]};\n",
       "      render(props, toinsert[toinsert.length - 1]);\n",
       "      element.append(toinsert);\n",
       "      return toinsert\n",
       "    }\n",
       "\n",
       "    /* Handle when an output is cleared or removed */\n",
       "    events.on('clear_output.CodeCell', handleClearOutput);\n",
       "    events.on('delete.Cell', handleClearOutput);\n",
       "\n",
       "    /* Handle when a new output is added */\n",
       "    events.on('output_added.OutputArea', handleAddOutput);\n",
       "\n",
       "    /**\n",
       "     * Register the mime type and append_mime function with output_area\n",
       "     */\n",
       "    OutputArea.prototype.register_mime_type(EXEC_MIME_TYPE, append_mime, {\n",
       "      /* Is output safe? */\n",
       "      safe: true,\n",
       "      /* Index of renderer in `output_area.display_order` */\n",
       "      index: 0\n",
       "    });\n",
       "  }\n",
       "\n",
       "  // register the mime type if in Jupyter Notebook environment and previously unregistered\n",
       "  if (root.Jupyter !== undefined) {\n",
       "    var events = require('base/js/events');\n",
       "    var OutputArea = require('notebook/js/outputarea').OutputArea;\n",
       "\n",
       "    if (OutputArea.prototype.mime_types().indexOf(EXEC_MIME_TYPE) == -1) {\n",
       "      register_renderer(events, OutputArea);\n",
       "    }\n",
       "  }\n",
       "\n",
       "  \n",
       "  if (typeof (root._bokeh_timeout) === \"undefined\" || force === true) {\n",
       "    root._bokeh_timeout = Date.now() + 5000;\n",
       "    root._bokeh_failed_load = false;\n",
       "  }\n",
       "\n",
       "  var NB_LOAD_WARNING = {'data': {'text/html':\n",
       "     \"<div style='background-color: #fdd'>\\n\"+\n",
       "     \"<p>\\n\"+\n",
       "     \"BokehJS does not appear to have successfully loaded. If loading BokehJS from CDN, this \\n\"+\n",
       "     \"may be due to a slow or bad network connection. Possible fixes:\\n\"+\n",
       "     \"</p>\\n\"+\n",
       "     \"<ul>\\n\"+\n",
       "     \"<li>re-rerun `output_notebook()` to attempt to load from CDN again, or</li>\\n\"+\n",
       "     \"<li>use INLINE resources instead, as so:</li>\\n\"+\n",
       "     \"</ul>\\n\"+\n",
       "     \"<code>\\n\"+\n",
       "     \"from bokeh.resources import INLINE\\n\"+\n",
       "     \"output_notebook(resources=INLINE)\\n\"+\n",
       "     \"</code>\\n\"+\n",
       "     \"</div>\"}};\n",
       "\n",
       "  function display_loaded() {\n",
       "    var el = document.getElementById(\"1001\");\n",
       "    if (el != null) {\n",
       "      el.textContent = \"BokehJS is loading...\";\n",
       "    }\n",
       "    if (root.Bokeh !== undefined) {\n",
       "      if (el != null) {\n",
       "        el.textContent = \"BokehJS \" + root.Bokeh.version + \" successfully loaded.\";\n",
       "      }\n",
       "    } else if (Date.now() < root._bokeh_timeout) {\n",
       "      setTimeout(display_loaded, 100)\n",
       "    }\n",
       "  }\n",
       "\n",
       "\n",
       "  function run_callbacks() {\n",
       "    try {\n",
       "      root._bokeh_onload_callbacks.forEach(function(callback) {\n",
       "        if (callback != null)\n",
       "          callback();\n",
       "      });\n",
       "    } finally {\n",
       "      delete root._bokeh_onload_callbacks\n",
       "    }\n",
       "    console.debug(\"Bokeh: all callbacks have finished\");\n",
       "  }\n",
       "\n",
       "  function load_libs(css_urls, js_urls, callback) {\n",
       "    if (css_urls == null) css_urls = [];\n",
       "    if (js_urls == null) js_urls = [];\n",
       "\n",
       "    root._bokeh_onload_callbacks.push(callback);\n",
       "    if (root._bokeh_is_loading > 0) {\n",
       "      console.debug(\"Bokeh: BokehJS is being loaded, scheduling callback at\", now());\n",
       "      return null;\n",
       "    }\n",
       "    if (js_urls == null || js_urls.length === 0) {\n",
       "      run_callbacks();\n",
       "      return null;\n",
       "    }\n",
       "    console.debug(\"Bokeh: BokehJS not loaded, scheduling load and callback at\", now());\n",
       "    root._bokeh_is_loading = css_urls.length + js_urls.length;\n",
       "\n",
       "    function on_load() {\n",
       "      root._bokeh_is_loading--;\n",
       "      if (root._bokeh_is_loading === 0) {\n",
       "        console.debug(\"Bokeh: all BokehJS libraries/stylesheets loaded\");\n",
       "        run_callbacks()\n",
       "      }\n",
       "    }\n",
       "\n",
       "    function on_error() {\n",
       "      console.error(\"failed to load \" + url);\n",
       "    }\n",
       "\n",
       "    for (var i = 0; i < css_urls.length; i++) {\n",
       "      var url = css_urls[i];\n",
       "      const element = document.createElement(\"link\");\n",
       "      element.onload = on_load;\n",
       "      element.onerror = on_error;\n",
       "      element.rel = \"stylesheet\";\n",
       "      element.type = \"text/css\";\n",
       "      element.href = url;\n",
       "      console.debug(\"Bokeh: injecting link tag for BokehJS stylesheet: \", url);\n",
       "      document.body.appendChild(element);\n",
       "    }\n",
       "\n",
       "    for (var i = 0; i < js_urls.length; i++) {\n",
       "      var url = js_urls[i];\n",
       "      var element = document.createElement('script');\n",
       "      element.onload = on_load;\n",
       "      element.onerror = on_error;\n",
       "      element.async = false;\n",
       "      element.src = url;\n",
       "      console.debug(\"Bokeh: injecting script tag for BokehJS library: \", url);\n",
       "      document.head.appendChild(element);\n",
       "    }\n",
       "  };var element = document.getElementById(\"1001\");\n",
       "  if (element == null) {\n",
       "    console.error(\"Bokeh: ERROR: autoload.js configured with elementid '1001' but no matching script tag was found. \")\n",
       "    return false;\n",
       "  }\n",
       "\n",
       "  function inject_raw_css(css) {\n",
       "    const element = document.createElement(\"style\");\n",
       "    element.appendChild(document.createTextNode(css));\n",
       "    document.body.appendChild(element);\n",
       "  }\n",
       "\n",
       "  var js_urls = [\"https://cdn.pydata.org/bokeh/release/bokeh-1.3.4.min.js\", \"https://cdn.pydata.org/bokeh/release/bokeh-widgets-1.3.4.min.js\", \"https://cdn.pydata.org/bokeh/release/bokeh-tables-1.3.4.min.js\", \"https://cdn.pydata.org/bokeh/release/bokeh-gl-1.3.4.min.js\"];\n",
       "  var css_urls = [];\n",
       "\n",
       "  var inline_js = [\n",
       "    function(Bokeh) {\n",
       "      Bokeh.set_log_level(\"info\");\n",
       "    },\n",
       "    \n",
       "    function(Bokeh) {\n",
       "      \n",
       "    },\n",
       "    function(Bokeh) {} // ensure no trailing comma for IE\n",
       "  ];\n",
       "\n",
       "  function run_inline_js() {\n",
       "    \n",
       "    if ((root.Bokeh !== undefined) || (force === true)) {\n",
       "      for (var i = 0; i < inline_js.length; i++) {\n",
       "        inline_js[i].call(root, root.Bokeh);\n",
       "      }if (force === true) {\n",
       "        display_loaded();\n",
       "      }} else if (Date.now() < root._bokeh_timeout) {\n",
       "      setTimeout(run_inline_js, 100);\n",
       "    } else if (!root._bokeh_failed_load) {\n",
       "      console.log(\"Bokeh: BokehJS failed to load within specified timeout.\");\n",
       "      root._bokeh_failed_load = true;\n",
       "    } else if (force !== true) {\n",
       "      var cell = $(document.getElementById(\"1001\")).parents('.cell').data().cell;\n",
       "      cell.output_area.append_execute_result(NB_LOAD_WARNING)\n",
       "    }\n",
       "\n",
       "  }\n",
       "\n",
       "  if (root._bokeh_is_loading === 0) {\n",
       "    console.debug(\"Bokeh: BokehJS loaded, going straight to plotting\");\n",
       "    run_inline_js();\n",
       "  } else {\n",
       "    load_libs(css_urls, js_urls, function() {\n",
       "      console.debug(\"Bokeh: BokehJS plotting callback run at\", now());\n",
       "      run_inline_js();\n",
       "    });\n",
       "  }\n",
       "}(window));"
      ],
      "application/vnd.bokehjs_load.v0+json": "\n(function(root) {\n  function now() {\n    return new Date();\n  }\n\n  var force = true;\n\n  if (typeof root._bokeh_onload_callbacks === \"undefined\" || force === true) {\n    root._bokeh_onload_callbacks = [];\n    root._bokeh_is_loading = undefined;\n  }\n\n  \n\n  \n  if (typeof (root._bokeh_timeout) === \"undefined\" || force === true) {\n    root._bokeh_timeout = Date.now() + 5000;\n    root._bokeh_failed_load = false;\n  }\n\n  var NB_LOAD_WARNING = {'data': {'text/html':\n     \"<div style='background-color: #fdd'>\\n\"+\n     \"<p>\\n\"+\n     \"BokehJS does not appear to have successfully loaded. If loading BokehJS from CDN, this \\n\"+\n     \"may be due to a slow or bad network connection. Possible fixes:\\n\"+\n     \"</p>\\n\"+\n     \"<ul>\\n\"+\n     \"<li>re-rerun `output_notebook()` to attempt to load from CDN again, or</li>\\n\"+\n     \"<li>use INLINE resources instead, as so:</li>\\n\"+\n     \"</ul>\\n\"+\n     \"<code>\\n\"+\n     \"from bokeh.resources import INLINE\\n\"+\n     \"output_notebook(resources=INLINE)\\n\"+\n     \"</code>\\n\"+\n     \"</div>\"}};\n\n  function display_loaded() {\n    var el = document.getElementById(\"1001\");\n    if (el != null) {\n      el.textContent = \"BokehJS is loading...\";\n    }\n    if (root.Bokeh !== undefined) {\n      if (el != null) {\n        el.textContent = \"BokehJS \" + root.Bokeh.version + \" successfully loaded.\";\n      }\n    } else if (Date.now() < root._bokeh_timeout) {\n      setTimeout(display_loaded, 100)\n    }\n  }\n\n\n  function run_callbacks() {\n    try {\n      root._bokeh_onload_callbacks.forEach(function(callback) {\n        if (callback != null)\n          callback();\n      });\n    } finally {\n      delete root._bokeh_onload_callbacks\n    }\n    console.debug(\"Bokeh: all callbacks have finished\");\n  }\n\n  function load_libs(css_urls, js_urls, callback) {\n    if (css_urls == null) css_urls = [];\n    if (js_urls == null) js_urls = [];\n\n    root._bokeh_onload_callbacks.push(callback);\n    if (root._bokeh_is_loading > 0) {\n      console.debug(\"Bokeh: BokehJS is being loaded, scheduling callback at\", now());\n      return null;\n    }\n    if (js_urls == null || js_urls.length === 0) {\n      run_callbacks();\n      return null;\n    }\n    console.debug(\"Bokeh: BokehJS not loaded, scheduling load and callback at\", now());\n    root._bokeh_is_loading = css_urls.length + js_urls.length;\n\n    function on_load() {\n      root._bokeh_is_loading--;\n      if (root._bokeh_is_loading === 0) {\n        console.debug(\"Bokeh: all BokehJS libraries/stylesheets loaded\");\n        run_callbacks()\n      }\n    }\n\n    function on_error() {\n      console.error(\"failed to load \" + url);\n    }\n\n    for (var i = 0; i < css_urls.length; i++) {\n      var url = css_urls[i];\n      const element = document.createElement(\"link\");\n      element.onload = on_load;\n      element.onerror = on_error;\n      element.rel = \"stylesheet\";\n      element.type = \"text/css\";\n      element.href = url;\n      console.debug(\"Bokeh: injecting link tag for BokehJS stylesheet: \", url);\n      document.body.appendChild(element);\n    }\n\n    for (var i = 0; i < js_urls.length; i++) {\n      var url = js_urls[i];\n      var element = document.createElement('script');\n      element.onload = on_load;\n      element.onerror = on_error;\n      element.async = false;\n      element.src = url;\n      console.debug(\"Bokeh: injecting script tag for BokehJS library: \", url);\n      document.head.appendChild(element);\n    }\n  };var element = document.getElementById(\"1001\");\n  if (element == null) {\n    console.error(\"Bokeh: ERROR: autoload.js configured with elementid '1001' but no matching script tag was found. \")\n    return false;\n  }\n\n  function inject_raw_css(css) {\n    const element = document.createElement(\"style\");\n    element.appendChild(document.createTextNode(css));\n    document.body.appendChild(element);\n  }\n\n  var js_urls = [\"https://cdn.pydata.org/bokeh/release/bokeh-1.3.4.min.js\", \"https://cdn.pydata.org/bokeh/release/bokeh-widgets-1.3.4.min.js\", \"https://cdn.pydata.org/bokeh/release/bokeh-tables-1.3.4.min.js\", \"https://cdn.pydata.org/bokeh/release/bokeh-gl-1.3.4.min.js\"];\n  var css_urls = [];\n\n  var inline_js = [\n    function(Bokeh) {\n      Bokeh.set_log_level(\"info\");\n    },\n    \n    function(Bokeh) {\n      \n    },\n    function(Bokeh) {} // ensure no trailing comma for IE\n  ];\n\n  function run_inline_js() {\n    \n    if ((root.Bokeh !== undefined) || (force === true)) {\n      for (var i = 0; i < inline_js.length; i++) {\n        inline_js[i].call(root, root.Bokeh);\n      }if (force === true) {\n        display_loaded();\n      }} else if (Date.now() < root._bokeh_timeout) {\n      setTimeout(run_inline_js, 100);\n    } else if (!root._bokeh_failed_load) {\n      console.log(\"Bokeh: BokehJS failed to load within specified timeout.\");\n      root._bokeh_failed_load = true;\n    } else if (force !== true) {\n      var cell = $(document.getElementById(\"1001\")).parents('.cell').data().cell;\n      cell.output_area.append_execute_result(NB_LOAD_WARNING)\n    }\n\n  }\n\n  if (root._bokeh_is_loading === 0) {\n    console.debug(\"Bokeh: BokehJS loaded, going straight to plotting\");\n    run_inline_js();\n  } else {\n    load_libs(css_urls, js_urls, function() {\n      console.debug(\"Bokeh: BokehJS plotting callback run at\", now());\n      run_inline_js();\n    });\n  }\n}(window));"
     },
     "metadata": {},
     "output_type": "display_data"
    }
   ],
   "source": [
    "import math\n",
    "\n",
    "import pandas as pd\n",
    "import numpy as np\n",
    "import numba\n",
    "import scipy.stats\n",
    "\n",
    "import bokeh.io\n",
    "import bokeh.plotting\n",
    "import bokeh.palettes\n",
    "import bokeh_catplot\n",
    "\n",
    "import microtubule_catastrophe as mc\n",
    "import bebi103\n",
    "\n",
    "bokeh.io.output_notebook()"
   ]
  },
  {
   "cell_type": "code",
   "execution_count": 2,
   "metadata": {},
   "outputs": [
    {
     "data": {
      "text/html": [
       "<div>\n",
       "<style scoped>\n",
       "    .dataframe tbody tr th:only-of-type {\n",
       "        vertical-align: middle;\n",
       "    }\n",
       "\n",
       "    .dataframe tbody tr th {\n",
       "        vertical-align: top;\n",
       "    }\n",
       "\n",
       "    .dataframe thead th {\n",
       "        text-align: right;\n",
       "    }\n",
       "</style>\n",
       "<table border=\"1\" class=\"dataframe\">\n",
       "  <thead>\n",
       "    <tr style=\"text-align: right;\">\n",
       "      <th></th>\n",
       "      <th>time to catastrophe (s)</th>\n",
       "      <th>labeled</th>\n",
       "    </tr>\n",
       "  </thead>\n",
       "  <tbody>\n",
       "    <tr>\n",
       "      <th>0</th>\n",
       "      <td>470.0</td>\n",
       "      <td>True</td>\n",
       "    </tr>\n",
       "    <tr>\n",
       "      <th>1</th>\n",
       "      <td>1415.0</td>\n",
       "      <td>True</td>\n",
       "    </tr>\n",
       "    <tr>\n",
       "      <th>2</th>\n",
       "      <td>130.0</td>\n",
       "      <td>True</td>\n",
       "    </tr>\n",
       "    <tr>\n",
       "      <th>3</th>\n",
       "      <td>280.0</td>\n",
       "      <td>True</td>\n",
       "    </tr>\n",
       "    <tr>\n",
       "      <th>4</th>\n",
       "      <td>550.0</td>\n",
       "      <td>True</td>\n",
       "    </tr>\n",
       "  </tbody>\n",
       "</table>\n",
       "</div>"
      ],
      "text/plain": [
       "   time to catastrophe (s)  labeled\n",
       "0                    470.0     True\n",
       "1                   1415.0     True\n",
       "2                    130.0     True\n",
       "3                    280.0     True\n",
       "4                    550.0     True"
      ]
     },
     "execution_count": 2,
     "metadata": {},
     "output_type": "execute_result"
    }
   ],
   "source": [
    "# Load the dataset\n",
    "df = pd.read_csv('../../data/gardner_time_to_catastrophe_dic_tidy.csv', usecols=[1,2])\n",
    "df.head()"
   ]
  },
  {
   "cell_type": "code",
   "execution_count": 3,
   "metadata": {},
   "outputs": [],
   "source": [
    "# Extract values of interest as numpy arrays\n",
    "labeled = df.loc[df['labeled'] == True, 'time to catastrophe (s)'].values\n",
    "unlabeled = df.loc[df['labeled'] == False, 'time to catastrophe (s)'].values"
   ]
  },
  {
   "cell_type": "markdown",
   "metadata": {},
   "source": [
    "## Confidence Intervals for ECDFs"
   ]
  },
  {
   "cell_type": "code",
   "execution_count": 4,
   "metadata": {},
   "outputs": [
    {
     "data": {
      "text/html": [
       "\n",
       "\n",
       "\n",
       "\n",
       "\n",
       "\n",
       "  <div class=\"bk-root\" id=\"7479e073-9844-4a8a-b01e-368dc8fc58bd\" data-root-id=\"1002\"></div>\n"
      ]
     },
     "metadata": {},
     "output_type": "display_data"
    },
    {
     "data": {
      "application/javascript": [
       "(function(root) {\n",
       "  function embed_document(root) {\n",
       "    \n",
       "  var docs_json = {\"2dbc173a-194a-422f-9ffa-5b559749e731\":{\"roots\":{\"references\":[{\"attributes\":{\"below\":[{\"id\":\"1011\",\"type\":\"LinearAxis\"}],\"center\":[{\"id\":\"1015\",\"type\":\"Grid\"},{\"id\":\"1020\",\"type\":\"Grid\"},{\"id\":\"1046\",\"type\":\"Legend\"}],\"left\":[{\"id\":\"1016\",\"type\":\"LinearAxis\"}],\"plot_height\":300,\"plot_width\":400,\"renderers\":[{\"id\":\"1037\",\"type\":\"GlyphRenderer\"},{\"id\":\"1052\",\"type\":\"GlyphRenderer\"},{\"id\":\"1066\",\"type\":\"GlyphRenderer\"},{\"id\":\"1084\",\"type\":\"GlyphRenderer\"}],\"title\":{\"id\":\"1039\",\"type\":\"Title\"},\"toolbar\":{\"id\":\"1027\",\"type\":\"Toolbar\"},\"x_range\":{\"id\":\"1003\",\"type\":\"DataRange1d\"},\"x_scale\":{\"id\":\"1007\",\"type\":\"LinearScale\"},\"y_range\":{\"id\":\"1005\",\"type\":\"DataRange1d\"},\"y_scale\":{\"id\":\"1009\",\"type\":\"LinearScale\"}},\"id\":\"1002\",\"subtype\":\"Figure\",\"type\":\"Plot\"},{\"attributes\":{},\"id\":\"1007\",\"type\":\"LinearScale\"},{\"attributes\":{},\"id\":\"1042\",\"type\":\"BasicTickFormatter\"},{\"attributes\":{\"fill_alpha\":0.1,\"fill_color\":\"#1f77b4\",\"line_alpha\":0.1,\"line_color\":\"#1f77b4\",\"x\":{\"field\":\"x\"},\"y\":{\"field\":\"y\"}},\"id\":\"1065\",\"type\":\"Patch\"},{\"attributes\":{\"overlay\":{\"id\":\"1045\",\"type\":\"BoxAnnotation\"}},\"id\":\"1023\",\"type\":\"BoxZoomTool\"},{\"attributes\":{\"text\":\"\"},\"id\":\"1039\",\"type\":\"Title\"},{\"attributes\":{\"data_source\":{\"id\":\"1063\",\"type\":\"ColumnDataSource\"},\"glyph\":{\"id\":\"1064\",\"type\":\"Patch\"},\"hover_glyph\":null,\"muted_glyph\":null,\"nonselection_glyph\":{\"id\":\"1065\",\"type\":\"Patch\"},\"selection_glyph\":null,\"view\":{\"id\":\"1067\",\"type\":\"CDSView\"}},\"id\":\"1066\",\"type\":\"GlyphRenderer\"},{\"attributes\":{},\"id\":\"1012\",\"type\":\"BasicTicker\"},{\"attributes\":{},\"id\":\"1044\",\"type\":\"BasicTickFormatter\"},{\"attributes\":{\"source\":{\"id\":\"1063\",\"type\":\"ColumnDataSource\"}},\"id\":\"1067\",\"type\":\"CDSView\"},{\"attributes\":{},\"id\":\"1112\",\"type\":\"Selection\"},{\"attributes\":{\"bottom_units\":\"screen\",\"fill_alpha\":{\"value\":0.5},\"fill_color\":{\"value\":\"lightgrey\"},\"left_units\":\"screen\",\"level\":\"overlay\",\"line_alpha\":{\"value\":1.0},\"line_color\":{\"value\":\"black\"},\"line_dash\":[4,4],\"line_width\":{\"value\":2},\"render_mode\":\"css\",\"right_units\":\"screen\",\"top_units\":\"screen\"},\"id\":\"1045\",\"type\":\"BoxAnnotation\"},{\"attributes\":{\"callback\":null},\"id\":\"1005\",\"type\":\"DataRange1d\"},{\"attributes\":{\"source\":{\"id\":\"1034\",\"type\":\"ColumnDataSource\"}},\"id\":\"1038\",\"type\":\"CDSView\"},{\"attributes\":{},\"id\":\"1026\",\"type\":\"HelpTool\"},{\"attributes\":{\"fill_alpha\":0.1,\"fill_color\":\"#1f77b4\",\"line_alpha\":0.1,\"line_color\":\"#1f77b4\",\"x\":{\"field\":\"x\"},\"y\":{\"field\":\"y\"}},\"id\":\"1036\",\"type\":\"Patch\"},{\"attributes\":{},\"id\":\"1077\",\"type\":\"Selection\"},{\"attributes\":{\"fill_color\":{\"value\":\"#0571b0\"},\"line_color\":{\"value\":\"#0571b0\"},\"x\":{\"field\":\"time to catastrophe (s)\"},\"y\":{\"field\":\"__ECDF\"}},\"id\":\"1050\",\"type\":\"Circle\"},{\"attributes\":{},\"id\":\"1078\",\"type\":\"UnionRenderers\"},{\"attributes\":{\"label\":{\"value\":\"False\"},\"renderers\":[{\"id\":\"1066\",\"type\":\"GlyphRenderer\"},{\"id\":\"1084\",\"type\":\"GlyphRenderer\"}]},\"id\":\"1079\",\"type\":\"LegendItem\"},{\"attributes\":{\"callback\":null,\"data\":{\"__ECDF\":{\"__ndarray__\":\"1e+5JU793j/CSDtWIIzkP9KOFQgj7eg/C4SRdqxA2D8AAAAAAADwP5qZmZmZmck/Fggj7ViB4D/tWIEw0o7lPwgj7ViBMNI/C4SRdqxAuD9RXkN5DeXlP7ICYaQdK8A/YaQdKxBG2j8mTv2eW+LkP5c49XtuidM/sgJhpB0r4D+amZmZmZnpP7fEqd9zS9w/1e+5JU79zj+yAmGkHSvQP2GkHSsQRuo/QRhpxwqEwT+q33NLnPrtP/s9t8Sp3+M/tWMFwkg75j/SjhUII+3YP+1YgTDSjsU/RtqxAmGk7T+yAmGkHSugP+1YgTDSjoU/fG6JU7/n1j/i1O+5JU7tP3/PLXHq99w/KK+hvIby2j9sKK+hvIbiP5qZmZmZmdk/eQ3lNZTX0D+c+j23xKnfP90Sp37PLeE/pB0rEEba4T8zMzMzMzPjP4y0YwXCSOs/Jk79nlvi1D98bolTv+fGPwuEkXasQOg/RtqxAmGkvT9x6vfcEqfuP+1YgTDSjpU//Z5b4tTv6T9eQ3kN5TXkP88tcer33LI/p37PLXHq5z9/zy1x6vfsP0N5DeU1lOc/CCPtWIEw4j/PLXHq99ziP0N5DeU1lNc/iVO/55Y45T98bolTv+fmPyivobyG8ro/GGnHCoSR5j8or6G8hvKqP+1YgTDSjtU/sgJhpB0rsD9G2rECYaTdPyivobyG8so/RtqxAmGkzT9Uv+eWOPXrP/C5JU79nus/lzj1e26J4z/wuSVO/Z7bP88tcer33MI/DeU1lNdQ3j/Fqd9zS5zqP7fEqd9zS8w/eQ3lNZTX4D9uiVO/55boPw3lNZTXUO4/7ViBMNKOtT859XtuiVPvPwuEkXasQMg/t8Sp33NL7D9eQ3kN5TXUP88tcer33NI/KK+hvIby6j/tWIEw0o6lP7VjBcJIO9Y/4HNLnPo95z/V77klTv3uPzaU11BeQ+k/QRhpxwqE0T9eQ3kN5TXEPxvKayivoew/QRhpxwqE4T+c+j23xKnvPw==\",\"dtype\":\"float64\",\"shape\":[95]},\"__label\":[\"False\",\"False\",\"False\",\"False\",\"False\",\"False\",\"False\",\"False\",\"False\",\"False\",\"False\",\"False\",\"False\",\"False\",\"False\",\"False\",\"False\",\"False\",\"False\",\"False\",\"False\",\"False\",\"False\",\"False\",\"False\",\"False\",\"False\",\"False\",\"False\",\"False\",\"False\",\"False\",\"False\",\"False\",\"False\",\"False\",\"False\",\"False\",\"False\",\"False\",\"False\",\"False\",\"False\",\"False\",\"False\",\"False\",\"False\",\"False\",\"False\",\"False\",\"False\",\"False\",\"False\",\"False\",\"False\",\"False\",\"False\",\"False\",\"False\",\"False\",\"False\",\"False\",\"False\",\"False\",\"False\",\"False\",\"False\",\"False\",\"False\",\"False\",\"False\",\"False\",\"False\",\"False\",\"False\",\"False\",\"False\",\"False\",\"False\",\"False\",\"False\",\"False\",\"False\",\"False\",\"False\",\"False\",\"False\",\"False\",\"False\",\"False\",\"False\",\"False\",\"False\",\"False\",\"False\"],\"index\":[211,212,213,214,215,216,217,218,219,220,221,222,223,224,225,226,227,228,229,230,231,232,233,234,235,236,237,238,239,240,241,242,243,244,245,246,247,248,249,250,251,252,253,254,255,256,257,258,259,260,261,262,263,264,265,266,267,268,269,270,271,272,273,274,275,276,277,278,279,280,281,282,283,284,285,286,287,288,289,290,291,292,293,294,295,296,297,298,299,300,301,302,303,304,305],\"labeled\":[false,false,false,false,false,false,false,false,false,false,false,false,false,false,false,false,false,false,false,false,false,false,false,false,false,false,false,false,false,false,false,false,false,false,false,false,false,false,false,false,false,false,false,false,false,false,false,false,false,false,false,false,false,false,false,false,false,false,false,false,false,false,false,false,false,false,false,false,false,false,false,false,false,false,false,false,false,false,false,false,false,false,false,false,false,false,false,false,false,false,false,false,false,false,false],\"time to catastrophe (s)\":{\"__ndarray__\":\"AAAAAAAwdkAAAAAAAJB6QAAAAAAA4IBAAAAAAACQcEAAAAAAAFycQAAAAAAAAGRAAAAAAAAgd0AAAAAAAMB8QAAAAAAAwGdAAAAAAABAYEAAAAAAAMB8QAAAAAAAgGFAAAAAAABwckAAAAAAANB7QAAAAAAAQGpAAAAAAACAdkAAAAAAAPiBQAAAAAAAAHRAAAAAAACAZkAAAAAAAIBmQAAAAAAAOINAAAAAAAAgYkAAAAAAADCLQAAAAAAAQHpAAAAAAADAfEAAAAAAAJBwQAAAAAAAwGJAAAAAAAAQiEAAAAAAAMBSQAAAAAAAAERAAAAAAACgbkAAAAAAAOiHQAAAAAAAoHRAAAAAAAAQc0AAAAAAAFB5QAAAAAAAgHFAAAAAAACAZkAAAAAAADB2QAAAAAAAwHdAAAAAAACweEAAAAAAAKB5QAAAAAAA8IRAAAAAAABgbUAAAAAAAGBjQAAAAAAAaIBAAAAAAADgYEAAAAAAAFiRQAAAAAAAAE5AAAAAAADAgkAAAAAAAEB6QAAAAAAAQF9AAAAAAADgf0AAAAAAAHCHQAAAAAAAkH9AAAAAAAAAeUAAAAAAAFB5QAAAAAAAQG9AAAAAAADQe0AAAAAAAPB+QAAAAAAAQGBAAAAAAACgfkAAAAAAAEBVQAAAAAAAYG1AAAAAAABAVUAAAAAAAPB0QAAAAAAAAGRAAAAAAABAZUAAAAAAAOCFQAAAAAAAuIVAAAAAAADweUAAAAAAABBzQAAAAAAAIGJAAAAAAADgdUAAAAAAAACEQAAAAAAAoGRAAAAAAAAgd0AAAAAAAGiAQAAAAAAAsI1AAAAAAABAX0AAAAAAAJyTQAAAAAAAYGNAAAAAAAD4hkAAAAAAAOBqQAAAAAAAYGhAAAAAAACghEAAAAAAAABUQAAAAAAAYG1AAAAAAABAf0AAAAAAAOSRQAAAAAAA4IBAAAAAAACAZkAAAAAAACBiQAAAAAAASIdAAAAAAABgeEAAAAAAAAiWQA==\",\"dtype\":\"float64\",\"shape\":[95]}},\"selected\":{\"id\":\"1112\",\"type\":\"Selection\"},\"selection_policy\":{\"id\":\"1113\",\"type\":\"UnionRenderers\"}},\"id\":\"1080\",\"type\":\"ColumnDataSource\"},{\"attributes\":{},\"id\":\"1022\",\"type\":\"WheelZoomTool\"},{\"attributes\":{},\"id\":\"1062\",\"type\":\"UnionRenderers\"},{\"attributes\":{},\"id\":\"1061\",\"type\":\"Selection\"},{\"attributes\":{\"data_source\":{\"id\":\"1080\",\"type\":\"ColumnDataSource\"},\"glyph\":{\"id\":\"1082\",\"type\":\"Circle\"},\"hover_glyph\":null,\"muted_glyph\":null,\"nonselection_glyph\":{\"id\":\"1083\",\"type\":\"Circle\"},\"selection_glyph\":null,\"view\":{\"id\":\"1085\",\"type\":\"CDSView\"}},\"id\":\"1084\",\"type\":\"GlyphRenderer\"},{\"attributes\":{},\"id\":\"1025\",\"type\":\"ResetTool\"},{\"attributes\":{\"callback\":null},\"id\":\"1003\",\"type\":\"DataRange1d\"},{\"attributes\":{\"callback\":null,\"data\":{\"x\":{\"__ndarray__\":\"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\",\"dtype\":\"float64\",\"shape\":[288]},\"y\":{\"__ndarray__\":\"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\",\"dtype\":\"float64\",\"shape\":[288]}},\"selected\":{\"id\":\"1097\",\"type\":\"Selection\"},\"selection_policy\":{\"id\":\"1098\",\"type\":\"UnionRenderers\"}},\"id\":\"1063\",\"type\":\"ColumnDataSource\"},{\"attributes\":{\"fill_color\":{\"value\":\"#ca0020\"},\"line_color\":{\"value\":\"#ca0020\"},\"x\":{\"field\":\"time to catastrophe (s)\"},\"y\":{\"field\":\"__ECDF\"}},\"id\":\"1082\",\"type\":\"Circle\"},{\"attributes\":{},\"id\":\"1009\",\"type\":\"LinearScale\"},{\"attributes\":{\"axis_label\":\"time to catastrophe (s)\",\"formatter\":{\"id\":\"1042\",\"type\":\"BasicTickFormatter\"},\"ticker\":{\"id\":\"1012\",\"type\":\"BasicTicker\"}},\"id\":\"1011\",\"type\":\"LinearAxis\"},{\"attributes\":{\"dimension\":1,\"ticker\":{\"id\":\"1017\",\"type\":\"BasicTicker\"}},\"id\":\"1020\",\"type\":\"Grid\"},{\"attributes\":{\"click_policy\":\"hide\",\"items\":[{\"id\":\"1047\",\"type\":\"LegendItem\"},{\"id\":\"1079\",\"type\":\"LegendItem\"}],\"location\":\"bottom_right\",\"title\":\"Labeled Tubulin\"},\"id\":\"1046\",\"type\":\"Legend\"},{\"attributes\":{\"fill_alpha\":{\"value\":0.1},\"fill_color\":{\"value\":\"#1f77b4\"},\"line_alpha\":{\"value\":0.1},\"line_color\":{\"value\":\"#1f77b4\"},\"x\":{\"field\":\"time to catastrophe (s)\"},\"y\":{\"field\":\"__ECDF\"}},\"id\":\"1083\",\"type\":\"Circle\"},{\"attributes\":{},\"id\":\"1024\",\"type\":\"SaveTool\"},{\"attributes\":{\"ticker\":{\"id\":\"1012\",\"type\":\"BasicTicker\"}},\"id\":\"1015\",\"type\":\"Grid\"},{\"attributes\":{},\"id\":\"1021\",\"type\":\"PanTool\"},{\"attributes\":{\"active_drag\":\"auto\",\"active_inspect\":\"auto\",\"active_multi\":null,\"active_scroll\":\"auto\",\"active_tap\":\"auto\",\"tools\":[{\"id\":\"1021\",\"type\":\"PanTool\"},{\"id\":\"1022\",\"type\":\"WheelZoomTool\"},{\"id\":\"1023\",\"type\":\"BoxZoomTool\"},{\"id\":\"1024\",\"type\":\"SaveTool\"},{\"id\":\"1025\",\"type\":\"ResetTool\"},{\"id\":\"1026\",\"type\":\"HelpTool\"}]},\"id\":\"1027\",\"type\":\"Toolbar\"},{\"attributes\":{},\"id\":\"1017\",\"type\":\"BasicTicker\"},{\"attributes\":{\"label\":{\"value\":\"True\"},\"renderers\":[{\"id\":\"1037\",\"type\":\"GlyphRenderer\"},{\"id\":\"1052\",\"type\":\"GlyphRenderer\"}]},\"id\":\"1047\",\"type\":\"LegendItem\"},{\"attributes\":{\"fill_alpha\":0.5,\"fill_color\":\"#0571b0\",\"line_alpha\":0,\"line_color\":\"#1f77b4\",\"x\":{\"field\":\"x\"},\"y\":{\"field\":\"y\"}},\"id\":\"1035\",\"type\":\"Patch\"},{\"attributes\":{\"fill_alpha\":{\"value\":0.1},\"fill_color\":{\"value\":\"#1f77b4\"},\"line_alpha\":{\"value\":0.1},\"line_color\":{\"value\":\"#1f77b4\"},\"x\":{\"field\":\"time to catastrophe (s)\"},\"y\":{\"field\":\"__ECDF\"}},\"id\":\"1051\",\"type\":\"Circle\"},{\"attributes\":{\"callback\":null,\"data\":{\"x\":{\"__ndarray__\":\"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\",\"dtype\":\"float64\",\"shape\":[484]},\"y\":{\"__ndarray__\":\"AAAAAAAAAAAAAAAAAAAAAAAAAAAAAAAAAAAAAAAAAAAAAAAAAAAAAEgH3vONaXM/SAfe841pcz9IB97zjWlzP0gH3vONaXM/6wrN7VQejT/rCs3tVB6NP0gH3vONaZM/SAfe841pkz8ZidVw8UOYPxmJ1XDxQ5g/6wrN7VQenT/rCs3tVB6dP1oun5DU7KA/Wi6fkNTsoD8ssJYNOMelPyywlg04x6U/GYnVcPFDqD8ZidVw8UOoP19GYjVc/LA/X0ZiNVz8sD/TJqAU9TKyP9MmoBT1MrI/SAfe841psz9IB97zjWmzPxmJ1XDxQ7g/GYnVcPFDuD8CSlEvI7G6PwJKUS8jsbo/YOsKze1Uvj9g6wrN7VS+P19GYjVc/MA/X0ZiNVz8wD8NFz+EQc7CPw0XP4RBzsI/SAfe841pwz9IB97zjWnDP7znG9MmoMQ/vOcb0yagxD/217pCczvFP/bXukJzO8U/a7j4IQxyxj9ruPghDHLGP9+YNgGlqMc/35g2AaWoxz9Ts0P3W9vIP1OzQ/db28g/PTrwnm9Myz89OvCeb0zLP3ZkXiXa48s/dmReJdrjyz+xGi5+CIPMP7EaLn4Ig8w/mtupPDrwzj+a26k8OvDOP5rbqTw68M4/mtupPDrwzj8H3vONaRPQPwfe841pE9A/JFbDxQ9h0D8kVsPFD2HQP3y+MW0CStE/fL4xbQJK0T+ZNgGlqJfRP5k2AaWol9E/Ko8OvOcb0z8qjw685xvTP4L3fGPaBNQ/gvd8Y9oE1D8TUIp6GYnVPxNQinoZidU/E1CKehmJ1T8TUIp6GYnVPzHIWbK/1tU/MchZsr/W1T9ruPghDHLWP2u4+CEMctY/paiXkVgN1z+lqJeRWA3XP9+YNgGlqNc/35g2AaWo1z8ZidVw8UPYPxmJ1XDxQ9g/yFmyv9YV2j/IWbK/1hXaP+XRgfd8Y9o/5dGB93xj2j8CSlEvI7HaPwJKUS8jsdo/PTrwnm9M2z89OvCeb0zbP1qyv9YVmts/WrK/1hWa2z/Okv21rtDcP86S/bWu0Nw/CIOcJftr3T8Ig5wl+2vdP0NzO5VHB94/Q3M7lUcH3j+a26k8OvDeP5rbqTw68N4/02iwt5WJ3z/TaLC3lYnfP/FDGOQs2d8/8UMY5CzZ3z8H3vONaRPgPwfe841pE+A/JFbDxQ9h4D8kVsPFD2HgPzMSq+Hih+A/MxKr4eKH4D9CzpL9ta7gP0LOkv21ruA/3xQWu2P74D/fFBa7Y/vgP20CSlEvI+E/bQJKUS8j4T+KehmJ1XDhP4p6GYnVcOE/mTYBpaiX4T+ZNgGlqJfhP6fy6MB7vuE/p/LowHu+4T9FOWx+KQviP0U5bH4pC+I/0yagFPUy4j/TJqAU9TLiP/Ceb0ybgOI/8J5vTJuA4j8NFz+EQc7iPw0XP4RBzuI/Ko8OvOcb4z8qjw685xvjPzlL9te6QuM/OUv217pC4z9Ww8UPYZDjP1bDxQ9hkOM/czuVRwfe4z9zO5VHB97jP4L3fGPaBOQ/gvd8Y9oE5D+C93xj2gTkP4L3fGPaBOQ/rSs0t1N55D+tKzS3U3nkP7znG9MmoOQ/vOcb0yag5D/ZX+sKze3kP9lf6wrN7eQ/aOqGrKcT5T9o6oaspxPlP/bXukJzO+U/9te6QnM75T8TUIp6GYnlPxNQinoZieU/Igxyluyv5T8iDHKW7K/lP9vKxItASuY/28rEi0BK5j+IMMhZsr/mP4gwyFmyv+Y/luyvdYXm5j+W7K91hebmP6Wol5FYDec/paiXkVgN5z+0ZH+tKzTnP7Rkf60rNOc/0dxO5dGB5z/R3E7l0YHnP/wQBjlL9uc//BAGOUv25z8oRb2MxGroPyhFvYzEaug/t89YLp+Q6D+3z1gun5DoP0W9jMRquOg/Rb2MxGq46D9UeXTgPd/oP1R5dOA93+g/YjVc/BAG6T9iNVz8EAbpP/5737m+Uuk//nvfub5S6T+dJftrXaHpP50l+2tdoek/q+HihzDI6T+r4eKHMMjpP8hZsr/WFeo/yFmyv9YV6j/XFZrbqTzqP9cVmtupPOo/5dGB93xj6j/l0YH3fGPqPwJKUS8jseo/AkpRLyOx6j8gwiBnyf7qPyDCIGfJ/uo/PTrwnm9M6z89OvCeb0zrP0v217pCc+s/S/bXukJz6z9asr/WFZrrP1qyv9YVmus/heZ2Ko8O7D+F5nYqjw7sP5SiXkZiNew/lKJeRmI17D9Apckf46jsP0ClyR/jqOw/zpL9ta7Q7D/Okv21rtDsP91O5dGB9+w/3U7l0YH37D/rCs3tVB7tP+sKze1UHu0/+sa0CShF7T/6xrQJKEXtP5cNOMfVke0/lw04x9WR7T8m+2tdobntPyb7a12hue0/NLdTeXTg7T80t1N5dODtP0NzO5VHB+4/Q3M7lUcH7j9g6wrN7VTuP2DrCs3tVO4/fWPaBJSi7j99Y9oElKLuP4wfwiBnye4/jB/CIGfJ7j+a26k8OvDuP5rbqTw68O4/t1N5dOA97z+3U3l04D3vP9TLSKyGi+8/1MtIrIaL7z8AAAAAAADwPwAAAAAAAPA/AAAAAAAA8D8AAAAAAADwPwAAAAAAAPA/AAAAAAAA8D8AAAAAAADwPwAAAAAAAPA/8UMY5CzZ7z/xQxjkLNnvP/FDGOQs2e8/8UMY5CzZ7z/jhzDIWbLvP+OHMMhZsu8/1MtIrIaL7z/Uy0ishovvP9TLSKyGi+8/1MtIrIaL7z/GD2GQs2TvP8YPYZCzZO8/t1N5dOA97z+3U3l04D3vP7dTeXTgPe8/t1N5dOA97z+pl5FYDRfvP6mXkVgNF+8/mtupPDrw7j+a26k8OvDuP4wfwiBnye4/jB/CIGfJ7j+MH8IgZ8nuP4wfwiBnye4/bqfy6MB77j9up/LowHvuP2DrCs3tVO4/YOsKze1U7j9RLyOxGi7uP1EvI7EaLu4/Q3M7lUcH7j9DczuVRwfuPzS3U3l04O0/NLdTeXTg7T8m+2tdobntPyb7a12hue0/Fz+EQc6S7T8XP4RBzpLtPwiDnCX7a+0/CIOcJftr7T/rCs3tVB7tP+sKze1UHu0/3U7l0YH37D/dTuXRgffsP0AIYhTUquw/QAhiFNSq7D/A1hWa26nsP8DWFZrbqew/o15GYjVc7D+jXkZiNVzsP5SiXkZiNew/lKJeRmI17D+F5nYqjw7sP4XmdiqPDuw/heZ2Ko8O7D+F5nYqjw7sP3cqjw685+s/dyqPDrzn6z9obqfy6MDrP2hup/LowOs/S/bXukJz6z9L9te6QnPrPy5+CIOcJes/Ln4Ig5wl6z8RBjlL9tfqPxEGOUv21+o/AkpRLyOx6j8CSlEvI7HqP/SNaRNQiuo/9I1pE1CK6j/l0YH3fGPqP+XRgfd8Y+o/up3KowPv6T+6ncqjA+/pP45pE1CKeuk/jmkTUIp66T+OaRNQinrpP45pE1CKeuk/cfFDGOQs6T9x8UMY5CzpP2I1XPwQBuk/YjVc/BAG6T9UeXTgPd/oP1R5dOA93+g/NwGlqJeR6D83AaWol5HoPyhFvYzEaug/KEW9jMRq6D98QlKzQ/fnP3xCUrND9+c//BAGOUv25z/8EAY5S/bnP+5UHh14z+c/7lQeHXjP5z/R3E7l0YHnP9HcTuXRgec/tGR/rSs05z+0ZH+tKzTnP6Wol5FYDec/paiXkVgN5z+W7K91hebmP5bsr3WF5uY/eXTgPd+Y5j95dOA935jmP05AKeplJOY/TkAp6mUk5j8/hEHOkv3lPz+EQc6S/eU/P4RBzpL95T8/hEHOkv3lPzHIWbK/1uU/MchZsr/W5T8TUIp6GYnlPxNQinoZieU/BZSiXkZi5T8FlKJeRmLlP9lf6wrN7eQ/2V/rCs3t5D/LowPv+cbkP8ujA+/5xuQ/y6MD7/nG5D/LowPv+cbkPzwZaE0foeQ/PBloTR+h5D8eoZgVeVPkPx6hmBV5U+Q/n29Mm4BS5D+fb0ybgFLkP3M7lUcH3uM/czuVRwfe4z9IB97zjWnjP0gH3vONaeM/OUv217pC4z85S/bXukLjPxzTJqAU9eI/HNMmoBT14j//WldobqfiP/9aV2hup+I/0yagFPUy4j/TJqAU9TLiP7au0NxO5eE/tq7Q3E7l4T+ZNgGlqJfhP5k2AaWol+E/mTYBpaiX4T+ZNgGlqJfhP20CSlEvI+E/bQJKUS8j4T8kVsPFD2HgPyRWw8UPYeA/B97zjWkT4D8H3vONaRPgP9TLSKyGi98/1MtIrIaL3z+a26k8OvDeP5rbqTw68N4/YOsKze1U3j9g6wrN7VTeP0NzO5VHB94/Q3M7lUcH3j8H5jQa7G3dPwfmNBrsbd0/do0nA63p2z92jScDrenbPyDCIGfJ/to/IMIgZ8n+2j+OaRNQinrZP45pE1CKetk/cfFDGOQs2T9x8UMY5CzZPxmJ1XDxQ9g/GYnVcPFD2D/8EAY5S/bXP/wQBjlL9tc/wiBnyf5a1z/CIGfJ/lrXP6Wol5FYDdc/paiXkVgN1z9OQCnqZSTWP05AKeplJNY/E1CKehmJ1T8TUIp6GYnVP/bXukJzO9U/9te6QnM71T9lf60rNLfTP2V/rSs0t9M/Ko8OvOcb0z8qjw685xvTP/Ceb0ybgNI/8J5vTJuA0j+XmZmZmZnRP5eZmZmZmdE/eyHKYfNL0T97Icph80vRP19GYjVc/NA/X0ZiNVz80D8kVsPFD2HQPyRWw8UPYdA/JMGcRoO9zT8kwZxGg73NP7EaLn4Ig8w/sRoufgiDzD/IWbK/1hXKP8hZsr/WFco/GYnVcPFDyD8ZidVw8UPIP/bXukJzO8U/9te6QnM7xT+C93xj2gTEP4L3fGPaBMQ/DRc/hEHOwj8NFz+EQc7CP9TLSKyGi78/1MtIrIaLvz/rCs3tVB69P+sKze1UHr0/GYnVcPFDuD8ZidVw8UO4P6Wol5FYDbc/paiXkVgNtz9IB97zjWmzP0gH3vONabM/0yagFPUysj/TJqAU9TKyP+EikJLcLa0/4SKQktwtrT8ZidVw8UOoPxmJ1XDxQ6g/SAfe841poz9IB97zjWmjPxmJ1XDxQ5g/GYnVcPFDmD/rCs3tVB6NP+sKze1UHo0/AAAAAAAAAAA=\",\"dtype\":\"float64\",\"shape\":[484]}},\"selected\":{\"id\":\"1061\",\"type\":\"Selection\"},\"selection_policy\":{\"id\":\"1062\",\"type\":\"UnionRenderers\"}},\"id\":\"1034\",\"type\":\"ColumnDataSource\"},{\"attributes\":{\"source\":{\"id\":\"1080\",\"type\":\"ColumnDataSource\"}},\"id\":\"1085\",\"type\":\"CDSView\"},{\"attributes\":{\"axis_label\":\"ECDF\",\"formatter\":{\"id\":\"1044\",\"type\":\"BasicTickFormatter\"},\"ticker\":{\"id\":\"1017\",\"type\":\"BasicTicker\"}},\"id\":\"1016\",\"type\":\"LinearAxis\"},{\"attributes\":{},\"id\":\"1097\",\"type\":\"Selection\"},{\"attributes\":{\"callback\":null,\"data\":{\"__ECDF\":{\"__ndarray__\":\"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\",\"dtype\":\"float64\",\"shape\":[211]},\"__label\":[\"True\",\"True\",\"True\",\"True\",\"True\",\"True\",\"True\",\"True\",\"True\",\"True\",\"True\",\"True\",\"True\",\"True\",\"True\",\"True\",\"True\",\"True\",\"True\",\"True\",\"True\",\"True\",\"True\",\"True\",\"True\",\"True\",\"True\",\"True\",\"True\",\"True\",\"True\",\"True\",\"True\",\"True\",\"True\",\"True\",\"True\",\"True\",\"True\",\"True\",\"True\",\"True\",\"True\",\"True\",\"True\",\"True\",\"True\",\"True\",\"True\",\"True\",\"True\",\"True\",\"True\",\"True\",\"True\",\"True\",\"True\",\"True\",\"True\",\"True\",\"True\",\"True\",\"True\",\"True\",\"True\",\"True\",\"True\",\"True\",\"True\",\"True\",\"True\",\"True\",\"True\",\"True\",\"True\",\"True\",\"True\",\"True\",\"True\",\"True\",\"True\",\"True\",\"True\",\"True\",\"True\",\"True\",\"True\",\"True\",\"True\",\"True\",\"True\",\"True\",\"True\",\"True\",\"True\",\"True\",\"True\",\"True\",\"True\",\"True\",\"True\",\"True\",\"True\",\"True\",\"True\",\"True\",\"True\",\"True\",\"True\",\"True\",\"True\",\"True\",\"True\",\"True\",\"True\",\"True\",\"True\",\"True\",\"True\",\"True\",\"True\",\"True\",\"True\",\"True\",\"True\",\"True\",\"True\",\"True\",\"True\",\"True\",\"True\",\"True\",\"True\",\"True\",\"True\",\"True\",\"True\",\"True\",\"True\",\"True\",\"True\",\"True\",\"True\",\"True\",\"True\",\"True\",\"True\",\"True\",\"True\",\"True\",\"True\",\"True\",\"True\",\"True\",\"True\",\"True\",\"True\",\"True\",\"True\",\"True\",\"True\",\"True\",\"True\",\"True\",\"True\",\"True\",\"True\",\"True\",\"True\",\"True\",\"True\",\"True\",\"True\",\"True\",\"True\",\"True\",\"True\",\"True\",\"True\",\"True\",\"True\",\"True\",\"True\",\"True\",\"True\",\"True\",\"True\",\"True\",\"True\",\"True\",\"True\",\"True\",\"True\",\"True\",\"True\",\"True\",\"True\",\"True\",\"True\",\"True\",\"True\",\"True\",\"True\",\"True\",\"True\",\"True\",\"True\",\"True\",\"True\",\"True\",\"True\"],\"index\":[0,1,2,3,4,5,6,7,8,9,10,11,12,13,14,15,16,17,18,19,20,21,22,23,24,25,26,27,28,29,30,31,32,33,34,35,36,37,38,39,40,41,42,43,44,45,46,47,48,49,50,51,52,53,54,55,56,57,58,59,60,61,62,63,64,65,66,67,68,69,70,71,72,73,74,75,76,77,78,79,80,81,82,83,84,85,86,87,88,89,90,91,92,93,94,95,96,97,98,99,100,101,102,103,104,105,106,107,108,109,110,111,112,113,114,115,116,117,118,119,120,121,122,123,124,125,126,127,128,129,130,131,132,133,134,135,136,137,138,139,140,141,142,143,144,145,146,147,148,149,150,151,152,153,154,155,156,157,158,159,160,161,162,163,164,165,166,167,168,169,170,171,172,173,174,175,176,177,178,179,180,181,182,183,184,185,186,187,188,189,190,191,192,193,194,195,196,197,198,199,200,201,202,203,204,205,206,207,208,209,210],\"labeled\":[true,true,true,true,true,true,true,true,true,true,true,true,true,true,true,true,true,true,true,true,true,true,true,true,true,true,true,true,true,true,true,true,true,true,true,true,true,true,true,true,true,true,true,true,true,true,true,true,true,true,true,true,true,true,true,true,true,true,true,true,true,true,true,true,true,true,true,true,true,true,true,true,true,true,true,true,true,true,true,true,true,true,true,true,true,true,true,true,true,true,true,true,true,true,true,true,true,true,true,true,true,true,true,true,true,true,true,true,true,true,true,true,true,true,true,true,true,true,true,true,true,true,true,true,true,true,true,true,true,true,true,true,true,true,true,true,true,true,true,true,true,true,true,true,true,true,true,true,true,true,true,true,true,true,true,true,true,true,true,true,true,true,true,true,true,true,true,true,true,true,true,true,true,true,true,true,true,true,true,true,true,true,true,true,true,true,true,true,true,true,true,true,true,true,true,true,true,true,true,true,true,true,true,true,true,true,true,true,true,true,true],\"time to catastrophe (s)\":{\"__ndarray__\":\"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\",\"dtype\":\"float64\",\"shape\":[211]}},\"selected\":{\"id\":\"1077\",\"type\":\"Selection\"},\"selection_policy\":{\"id\":\"1078\",\"type\":\"UnionRenderers\"}},\"id\":\"1048\",\"type\":\"ColumnDataSource\"},{\"attributes\":{},\"id\":\"1098\",\"type\":\"UnionRenderers\"},{\"attributes\":{\"data_source\":{\"id\":\"1034\",\"type\":\"ColumnDataSource\"},\"glyph\":{\"id\":\"1035\",\"type\":\"Patch\"},\"hover_glyph\":null,\"muted_glyph\":null,\"nonselection_glyph\":{\"id\":\"1036\",\"type\":\"Patch\"},\"selection_glyph\":null,\"view\":{\"id\":\"1038\",\"type\":\"CDSView\"}},\"id\":\"1037\",\"type\":\"GlyphRenderer\"},{\"attributes\":{},\"id\":\"1113\",\"type\":\"UnionRenderers\"},{\"attributes\":{\"fill_alpha\":0.5,\"fill_color\":\"#ca0020\",\"line_alpha\":0,\"line_color\":\"#1f77b4\",\"x\":{\"field\":\"x\"},\"y\":{\"field\":\"y\"}},\"id\":\"1064\",\"type\":\"Patch\"},{\"attributes\":{\"data_source\":{\"id\":\"1048\",\"type\":\"ColumnDataSource\"},\"glyph\":{\"id\":\"1050\",\"type\":\"Circle\"},\"hover_glyph\":null,\"muted_glyph\":null,\"nonselection_glyph\":{\"id\":\"1051\",\"type\":\"Circle\"},\"selection_glyph\":null,\"view\":{\"id\":\"1053\",\"type\":\"CDSView\"}},\"id\":\"1052\",\"type\":\"GlyphRenderer\"},{\"attributes\":{\"source\":{\"id\":\"1048\",\"type\":\"ColumnDataSource\"}},\"id\":\"1053\",\"type\":\"CDSView\"}],\"root_ids\":[\"1002\"]},\"title\":\"Bokeh Application\",\"version\":\"1.3.4\"}};\n",
       "  var render_items = [{\"docid\":\"2dbc173a-194a-422f-9ffa-5b559749e731\",\"roots\":{\"1002\":\"7479e073-9844-4a8a-b01e-368dc8fc58bd\"}}];\n",
       "  root.Bokeh.embed.embed_items_notebook(docs_json, render_items);\n",
       "\n",
       "  }\n",
       "  if (root.Bokeh !== undefined) {\n",
       "    embed_document(root);\n",
       "  } else {\n",
       "    var attempts = 0;\n",
       "    var timer = setInterval(function(root) {\n",
       "      if (root.Bokeh !== undefined) {\n",
       "        embed_document(root);\n",
       "        clearInterval(timer);\n",
       "      }\n",
       "      attempts++;\n",
       "      if (attempts > 100) {\n",
       "        console.log(\"Bokeh: ERROR: Unable to run BokehJS code because BokehJS library is missing\");\n",
       "        clearInterval(timer);\n",
       "      }\n",
       "    }, 10, root)\n",
       "  }\n",
       "})(window);"
      ],
      "application/vnd.bokehjs_exec.v0+json": ""
     },
     "metadata": {
      "application/vnd.bokehjs_exec.v0+json": {
       "id": "1002"
      }
     },
     "output_type": "display_data"
    }
   ],
   "source": [
    "palette = bokeh.palettes.brewer['RdBu'][4]\n",
    "\n",
    "p = bokeh_catplot.ecdf(\n",
    "    data=df,\n",
    "    cats='labeled',\n",
    "    val='time to catastrophe (s)',\n",
    "    conf_int=True,\n",
    "    palette=[palette[0], palette[-1]],\n",
    ")\n",
    "\n",
    "p.legend.title = 'Labeled Tubulin'\n",
    "\n",
    "bokeh.io.show(p)"
   ]
  },
  {
   "cell_type": "markdown",
   "metadata": {},
   "source": [
    "Looking at the plotted ECDFs with confidence intervals above, there is a lot of overlap in the confidence intervals, and the original ECDFs also follow each other very closely. Based on that observation, it could be likely that the two conditions are identically distributed. "
   ]
  },
  {
   "cell_type": "markdown",
   "metadata": {},
   "source": [
    "## Confidence Intervals for Plug-in Estimate of Mean Time to Catastrophe via Bootstrapping"
   ]
  },
  {
   "cell_type": "code",
   "execution_count": 7,
   "metadata": {},
   "outputs": [],
   "source": [
    "@numba.njit\n",
    "def draw_bs_sample(data):\n",
    "    \"\"\"Draw a bootstrap sample from a 1D data set.\"\"\"\n",
    "    return np.random.choice(data, size=len(data))\n",
    "\n",
    "\n",
    "@numba.njit\n",
    "def draw_bs_reps_mean(data, size=1):\n",
    "    \"\"\"Draw boostrap replicates of the mean from 1D data set.\"\"\"\n",
    "    out = np.empty(size)\n",
    "    for i in range(size):\n",
    "        out[i] = np.mean(draw_bs_sample(data))\n",
    "    return out"
   ]
  },
  {
   "cell_type": "markdown",
   "metadata": {},
   "source": [
    "Use bootstrapping method to obtain confidence intervals for the plug-in estimate for the mean time to catastrophe."
   ]
  },
  {
   "cell_type": "code",
   "execution_count": 8,
   "metadata": {},
   "outputs": [],
   "source": [
    "# Sample boostrapped mean values\n",
    "bs_reps_mean_labeled = draw_bs_reps_mean(labeled, size=10000)\n",
    "bs_reps_mean_unlabeled = draw_bs_reps_mean(unlabeled, size=10000)"
   ]
  },
  {
   "cell_type": "code",
   "execution_count": 9,
   "metadata": {},
   "outputs": [
    {
     "name": "stdout",
     "output_type": "stream",
     "text": [
      "\n",
      "Mean time to catastrophe 95% conf int labeled (s):   [401.63, 480.47]\n",
      "Mean time to catastrophe 95% conf int unlabeled (s): [354.42, 476.32]\n",
      "\n"
     ]
    }
   ],
   "source": [
    "# 95% confidence intervals\n",
    "mean_labeled_conf_int = np.percentile(bs_reps_mean_labeled, [2.5, 97.5])\n",
    "mean_unlabeled_conf_int = np.percentile(bs_reps_mean_unlabeled, [2.5, 97.5])\n",
    "\n",
    "print(\"\"\"\n",
    "Mean time to catastrophe 95% conf int labeled (s):   [{0:.2f}, {1:.2f}]\n",
    "Mean time to catastrophe 95% conf int unlabeled (s): [{2:.2f}, {3:.2f}]\n",
    "\"\"\".format(*(tuple(mean_labeled_conf_int) + tuple(mean_unlabeled_conf_int))))"
   ]
  },
  {
   "cell_type": "markdown",
   "metadata": {},
   "source": [
    "Considering the confidence intervals for the plug-in estimate of the mean, we again observe that there is a pretty large overlap between the intervals, from 401.63 to 476.32. More than 50% of either condition's confidence interval is within this overlap. Though this cannot confirm that the two conditions are identically distributed, it does not refute our observation in part a) that they could be identically distributed."
   ]
  },
  {
   "cell_type": "markdown",
   "metadata": {},
   "source": [
    "## NHST for Labeled vs. Unlabeled Tubulin Distributions"
   ]
  },
  {
   "cell_type": "markdown",
   "metadata": {},
   "source": [
    "Because we are testing the hypothesis that the two distributions are the same, we will perform a permutation hypothesis test. This test simulates the condition of the two distributions being identical by scrambling the data points between two \"new\" datasets. We choose difference of means between the two datasets as our test statistic to measure similarity or dissimilarity between the two distributions. This is because if the two distributions are identical, their means should be close together (important to note, however, that the converse is not necessarily true). Then, we will compute the difference of means for the original dataset and see how many of our simulated differences are at least as extreme as the original difference to obtain a p-value."
   ]
  },
  {
   "cell_type": "code",
   "execution_count": 11,
   "metadata": {},
   "outputs": [],
   "source": [
    "# Helper functions from lesson 7:\n",
    "@numba.njit\n",
    "def draw_perm_sample(x, y):\n",
    "    \"\"\"Generate a permutation sample.\"\"\"\n",
    "    concat_data = np.concatenate((x, y))\n",
    "    np.random.shuffle(concat_data)\n",
    "\n",
    "    return concat_data[:len(x)], concat_data[len(x):]\n",
    "\n",
    "\n",
    "@numba.njit\n",
    "def draw_perm_reps_diff_mean(x, y, size=10000):\n",
    "    \"\"\"Generate array of permuation replicates.\"\"\"\n",
    "    out = np.empty(size)\n",
    "    for i in range(size):\n",
    "        x_perm, y_perm = draw_perm_sample(x, y)\n",
    "        out[i] = np.mean(x_perm) - np.mean(y_perm)\n",
    "\n",
    "    return out"
   ]
  },
  {
   "cell_type": "code",
   "execution_count": 12,
   "metadata": {},
   "outputs": [
    {
     "name": "stdout",
     "output_type": "stream",
     "text": [
      "p-value = 0.2238\n"
     ]
    }
   ],
   "source": [
    "# Compute test statistic for original data set\n",
    "diff_mean = np.mean(labeled) - np.mean(unlabeled)\n",
    "\n",
    "# Draw replicates\n",
    "perm_reps = draw_perm_reps_diff_mean(labeled, unlabeled, size=10000)\n",
    "\n",
    "# Compute p-value\n",
    "p_val = np.sum(perm_reps >= diff_mean) / len(perm_reps)\n",
    "\n",
    "print('p-value =', p_val)"
   ]
  },
  {
   "cell_type": "markdown",
   "metadata": {},
   "source": [
    "This is a rather large p-value. Again, this does not really refute our original hypothesis that the two conditions could be identically distributed."
   ]
  },
  {
   "cell_type": "markdown",
   "metadata": {},
   "source": [
    "## Confidence Intervals for Plug-in Estimate of Mean Time to Catastrophe via Central Limit Theorem"
   ]
  },
  {
   "cell_type": "code",
   "execution_count": 19,
   "metadata": {},
   "outputs": [],
   "source": [
    "def clt_conf_int(data):\n",
    "    \"\"\"\n",
    "    Computes an approximation of the confidence interval using the theoretical\n",
    "    result (Central Limit Theorem) that the mean is approximately Normally\n",
    "    distributed.\n",
    "    \"\"\"\n",
    "    n = len(data)\n",
    "    # Approximations of the Normal distribution parameters using given dataset\n",
    "    mu = np.mean(data)\n",
    "    sigma = np.sqrt(np.sum((data - mu) ** 2) / (n * (n+1)))\n",
    "    \n",
    "    return (scipy.stats.norm.interval(.95, loc=mu, scale=sigma))"
   ]
  },
  {
   "cell_type": "code",
   "execution_count": 20,
   "metadata": {},
   "outputs": [
    {
     "name": "stdout",
     "output_type": "stream",
     "text": [
      "labeled: (400.9301791367841, 480.4916218110832)\n",
      "unlabeled: (351.4855037957038, 473.5671277832436)\n"
     ]
    }
   ],
   "source": [
    "print('labeled:', clt_conf_int(labeled))\n",
    "print('unlabeled:', clt_conf_int(unlabeled))"
   ]
  },
  {
   "cell_type": "markdown",
   "metadata": {},
   "source": [
    "Compared to the confidence intervals computed in part b) by bootstrapping, this result is quite similar, where the endpoints only vary by a small percentage of the width of the intervals. In fact, if you repeated the bootstrapping method in part b), they are all similar to these computed intervals."
   ]
  },
  {
   "cell_type": "markdown",
   "metadata": {},
   "source": [
    "##"
   ]
  },
  {
   "cell_type": "code",
   "execution_count": 8,
   "metadata": {},
   "outputs": [],
   "source": [
    "def ecdf(x, data):\n",
    "    \"\"\"Returns ECDF values of the given dataset, at the given x values.\"\"\"\n",
    "    n = len(data)\n",
    "    vals = np.empty(len(x))\n",
    "    \n",
    "    x = np.sort(x)\n",
    "    data = np.sort(data)\n",
    "    \n",
    "    # ECDF is stepwise function with left end closed, right end open\n",
    "    # Refer to http://bois.caltech.edu/distribution_explorer/background/review_of_key_concepts.html\n",
    "    \n",
    "    # Indices into data and x, resp.\n",
    "    i, j = 0, 0\n",
    "    # Cumulative height/value of ECDF at first i values of data\n",
    "    height = 0\n",
    "    \n",
    "    while i < n:\n",
    "        # Check if x[j] falls here on the ECDF\n",
    "        while j < len(x) and x[j] < data[i]:\n",
    "            vals[j] = height / n\n",
    "            j += 1\n",
    "        \n",
    "        # Increment the ECDF height based on data\n",
    "        height += 1\n",
    "        i += 1\n",
    "    \n",
    "    # Add remaining values of x that are all larger than data\n",
    "    while j < len(x):\n",
    "        vals[j] = 1\n",
    "        j += 1\n",
    "            \n",
    "    return vals"
   ]
  },
  {
   "cell_type": "markdown",
   "metadata": {},
   "source": [
    "## Confidence Intervals for Plug-in Estimate of Mean Time to Catastrophe via Dvoretzky-Kiefer-Wolfowitz Inequality (DKW)\n",
    "\n",
    "The DKW inequality puts an upper bound on the maximum distance between the ECDF $\\hat{F}(x)$ and the generative CDF $F(x)$. It states that, for any $\\epsilon > 0$,\n",
    "\n",
    "\\begin{align} \n",
    "P\\left(\\mathrm{sup}_x \\left|F(x) - \\hat{F}(x)\\right| > \\epsilon\\right) \\le 2\\mathrm{e}^{-2 n \\epsilon^2}\n",
    "\\end{align}\n",
    "\n",
    "where $n$ is the number of points in the data set. We could use this inequality to set up a bound for the confidence interval. To construct the bound on the $100 \\times (1-\\alpha)$ percent confidence interval, we specify that\n",
    "\n",
    "\\begin{align}\n",
    "\\alpha = 2\\mathrm{e}^{-2 n \\epsilon^2}\n",
    "\\end{align}\n",
    "which gives\n",
    "\\begin{align}\n",
    "\\epsilon = \\sqrt{\\frac{1}{2n}\\,\\log \\frac{2}{\\alpha}}.\n",
    "\\end{align}\n",
    "Then, the lower bound on the confidence interval is \n",
    "\n",
    "\\begin{align} \n",
    "L(x) = \\max\\left(0, \\hat{F}(x) - \\epsilon\\right),\n",
    "\\end{align}\n",
    "and the upper bound is\n",
    "\\begin{align}\n",
    "U(x) = \\min\\left(1, \\hat{F}(x) + \\epsilon\\right).\n",
    "\\end{align} \n",
    "\n",
    "Note that this is not strictly speaking a confidence interval, but rather a set of bounds for where the confidence interval can lie (it's the DKW **in**equality after all)."
   ]
  },
  {
   "cell_type": "code",
   "execution_count": 9,
   "metadata": {},
   "outputs": [],
   "source": [
    "def dkw_conf_int(data, alpha=0.25):\n",
    "    n = len(data)\n",
    "    epsilon = math.sqrt(1 / 2 / n * math.log(2 / alpha))\n",
    "    \n",
    "    # Generate x-values so they cover the spread of data\n",
    "    x = np.sort(data)\n",
    "    vals = ecdf(x, data)\n",
    "    \n",
    "    lower = np.maximum(np.zeros(n), vals - epsilon)\n",
    "    upper = np.minimum(np.ones(n), vals + epsilon)\n",
    "    \n",
    "    return x, lower, upper"
   ]
  },
  {
   "cell_type": "code",
   "execution_count": 10,
   "metadata": {},
   "outputs": [],
   "source": [
    "# Get 95% confidence intervals\n",
    "x_labeled, lower_labeled, upper_labeled = dkw_conf_int(labeled)\n",
    "x_unlabeled, lower_unlabeled, upper_unlabeled = dkw_conf_int(unlabeled)"
   ]
  },
  {
   "cell_type": "code",
   "execution_count": 12,
   "metadata": {},
   "outputs": [
    {
     "data": {
      "text/html": [
       "\n",
       "\n",
       "\n",
       "\n",
       "\n",
       "\n",
       "  <div class=\"bk-root\" id=\"ae1b2eac-0c44-4fa9-86b6-9abc02237fe0\" data-root-id=\"1401\"></div>\n"
      ]
     },
     "metadata": {},
     "output_type": "display_data"
    },
    {
     "data": {
      "application/javascript": [
       "(function(root) {\n",
       "  function embed_document(root) {\n",
       "    \n",
       "  var docs_json = {\"33e093c3-c1c3-4f7e-83ec-373578fc78db\":{\"roots\":{\"references\":[{\"attributes\":{\"below\":[{\"id\":\"1410\",\"type\":\"LinearAxis\"}],\"center\":[{\"id\":\"1414\",\"type\":\"Grid\"},{\"id\":\"1419\",\"type\":\"Grid\"},{\"id\":\"1452\",\"type\":\"Legend\"}],\"left\":[{\"id\":\"1415\",\"type\":\"LinearAxis\"}],\"plot_height\":300,\"plot_width\":400,\"renderers\":[{\"id\":\"1436\",\"type\":\"GlyphRenderer\"},{\"id\":\"1441\",\"type\":\"GlyphRenderer\"},{\"id\":\"1457\",\"type\":\"GlyphRenderer\"},{\"id\":\"1462\",\"type\":\"GlyphRenderer\"}],\"title\":{\"id\":\"1444\",\"type\":\"Title\"},\"toolbar\":{\"id\":\"1426\",\"type\":\"Toolbar\"},\"x_range\":{\"id\":\"1402\",\"type\":\"DataRange1d\"},\"x_scale\":{\"id\":\"1406\",\"type\":\"LinearScale\"},\"y_range\":{\"id\":\"1404\",\"type\":\"DataRange1d\"},\"y_scale\":{\"id\":\"1408\",\"type\":\"LinearScale\"}},\"id\":\"1401\",\"subtype\":\"Figure\",\"type\":\"Plot\"},{\"attributes\":{\"ticker\":{\"id\":\"1411\",\"type\":\"BasicTicker\"}},\"id\":\"1414\",\"type\":\"Grid\"},{\"attributes\":{\"label\":{\"value\":\"unlabeled\"},\"renderers\":[{\"id\":\"1462\",\"type\":\"GlyphRenderer\"}]},\"id\":\"1477\",\"type\":\"LegendItem\"},{\"attributes\":{\"fill_alpha\":{\"value\":0.1},\"fill_color\":{\"value\":\"#1f77b4\"},\"line_alpha\":{\"value\":0.1},\"line_color\":{\"value\":\"#1f77b4\"},\"x\":{\"field\":\"x\"},\"y\":{\"field\":\"y\"}},\"id\":\"1435\",\"type\":\"Circle\"},{\"attributes\":{},\"id\":\"1450\",\"type\":\"Selection\"},{\"attributes\":{\"dimension\":1,\"ticker\":{\"id\":\"1416\",\"type\":\"BasicTicker\"}},\"id\":\"1419\",\"type\":\"Grid\"},{\"attributes\":{},\"id\":\"1474\",\"type\":\"UnionRenderers\"},{\"attributes\":{\"axis_label\":\"ECDF\",\"formatter\":{\"id\":\"1445\",\"type\":\"BasicTickFormatter\"},\"ticker\":{\"id\":\"1416\",\"type\":\"BasicTicker\"}},\"id\":\"1415\",\"type\":\"LinearAxis\"},{\"attributes\":{},\"id\":\"1476\",\"type\":\"UnionRenderers\"},{\"attributes\":{\"source\":{\"id\":\"1438\",\"type\":\"ColumnDataSource\"}},\"id\":\"1442\",\"type\":\"CDSView\"},{\"attributes\":{\"fill_alpha\":0.1,\"fill_color\":\"#1f77b4\",\"line_alpha\":0.1,\"line_color\":\"#1f77b4\",\"x\":{\"field\":\"x\"},\"y\":{\"field\":\"y\"}},\"id\":\"1440\",\"type\":\"Patch\"},{\"attributes\":{},\"id\":\"1447\",\"type\":\"BasicTickFormatter\"},{\"attributes\":{\"bottom_units\":\"screen\",\"fill_alpha\":{\"value\":0.5},\"fill_color\":{\"value\":\"lightgrey\"},\"left_units\":\"screen\",\"level\":\"overlay\",\"line_alpha\":{\"value\":1.0},\"line_color\":{\"value\":\"black\"},\"line_dash\":[4,4],\"line_width\":{\"value\":2},\"render_mode\":\"css\",\"right_units\":\"screen\",\"top_units\":\"screen\"},\"id\":\"1449\",\"type\":\"BoxAnnotation\"},{\"attributes\":{\"data_source\":{\"id\":\"1438\",\"type\":\"ColumnDataSource\"},\"glyph\":{\"id\":\"1439\",\"type\":\"Patch\"},\"hover_glyph\":null,\"muted_glyph\":null,\"nonselection_glyph\":{\"id\":\"1440\",\"type\":\"Patch\"},\"selection_glyph\":null,\"view\":{\"id\":\"1442\",\"type\":\"CDSView\"}},\"id\":\"1441\",\"type\":\"GlyphRenderer\"},{\"attributes\":{\"source\":{\"id\":\"1433\",\"type\":\"ColumnDataSource\"}},\"id\":\"1437\",\"type\":\"CDSView\"},{\"attributes\":{},\"id\":\"1451\",\"type\":\"UnionRenderers\"},{\"attributes\":{},\"id\":\"1475\",\"type\":\"Selection\"},{\"attributes\":{\"data_source\":{\"id\":\"1454\",\"type\":\"ColumnDataSource\"},\"glyph\":{\"id\":\"1455\",\"type\":\"Circle\"},\"hover_glyph\":null,\"muted_glyph\":null,\"nonselection_glyph\":{\"id\":\"1456\",\"type\":\"Circle\"},\"selection_glyph\":null,\"view\":{\"id\":\"1458\",\"type\":\"CDSView\"}},\"id\":\"1457\",\"type\":\"GlyphRenderer\"},{\"attributes\":{\"source\":{\"id\":\"1454\",\"type\":\"ColumnDataSource\"}},\"id\":\"1458\",\"type\":\"CDSView\"},{\"attributes\":{\"callback\":null,\"data\":{\"x\":{\"__ndarray__\":\"AAAAAAAAREAAAAAAAABOQAAAAAAAwFJAAAAAAAAAVEAAAAAAAEBVQAAAAAAAQFVAAAAAAABAX0AAAAAAAEBfQAAAAAAAQGBAAAAAAABAYEAAAAAAAOBgQAAAAAAAgGFAAAAAAAAgYkAAAAAAACBiQAAAAAAAIGJAAAAAAADAYkAAAAAAAGBjQAAAAAAAYGNAAAAAAAAAZEAAAAAAAABkQAAAAAAAoGRAAAAAAABAZUAAAAAAAIBmQAAAAAAAgGZAAAAAAACAZkAAAAAAAIBmQAAAAAAAwGdAAAAAAABgaEAAAAAAAEBqQAAAAAAA4GpAAAAAAABgbUAAAAAAAGBtQAAAAAAAYG1AAAAAAACgbkAAAAAAAEBvQAAAAAAAkHBAAAAAAACQcEAAAAAAAIBxQAAAAAAAcHJAAAAAAAAQc0AAAAAAABBzQAAAAAAAAHRAAAAAAACgdEAAAAAAAPB0QAAAAAAA4HVAAAAAAAAwdkAAAAAAADB2QAAAAAAAgHZAAAAAAAAgd0AAAAAAACB3QAAAAAAAwHdAAAAAAABgeEAAAAAAALB4QAAAAAAAAHlAAAAAAABQeUAAAAAAAFB5QAAAAAAAoHlAAAAAAADweUAAAAAAAEB6QAAAAAAAQHpAAAAAAACQekAAAAAAANB7QAAAAAAA0HtAAAAAAADAfEAAAAAAAMB8QAAAAAAAwHxAAAAAAACgfkAAAAAAAPB+QAAAAAAAQH9AAAAAAACQf0AAAAAAAOB/QAAAAAAAaIBAAAAAAABogEAAAAAAAOCAQAAAAAAA4IBAAAAAAAD4gUAAAAAAAMCCQAAAAAAAOINAAAAAAAAAhEAAAAAAAKCEQAAAAAAA8IRAAAAAAAC4hUAAAAAAAOCFQAAAAAAA+IZAAAAAAABIh0AAAAAAAHCHQAAAAAAA6IdAAAAAAAAQiEAAAAAAADCLQAAAAAAAsI1AAAAAAABYkUAAAAAAAOSRQAAAAAAAnJNAAAAAAAAIlkAAAAAAAFycQA==\",\"dtype\":\"float64\",\"shape\":[95]},\"y\":{\"__ndarray__\":\"7ViBMNKOhT/tWIEw0o6VP7ICYaQdK6A/7ViBMNKOpT8or6G8hvKqP7ICYaQdK7A/zy1x6vfcsj/tWIEw0o61PwuEkXasQLg/KK+hvIbyuj9G2rECYaS9P7ICYaQdK8A/QRhpxwqEwT/PLXHq99zCP15DeQ3lNcQ/7ViBMNKOxT98bolTv+fGPwuEkXasQMg/mpmZmZmZyT8or6G8hvLKP7fEqd9zS8w/RtqxAmGkzT/V77klTv3OP7ICYaQdK9A/eQ3lNZTX0D9BGGnHCoTRPwgj7ViBMNI/zy1x6vfc0j+XOPV7bonTP15DeQ3lNdQ/Jk79nlvi1D/tWIEw0o7VP7VjBcJIO9Y/fG6JU7/n1j9DeQ3lNZTXPwuEkXasQNg/0o4VCCPt2D+amZmZmZnZP2GkHSsQRto/KK+hvIby2j/wuSVO/Z7bP7fEqd9zS9w/f88tcer33D9G2rECYaTdPw3lNZTXUN4/1e+5JU793j+c+j23xKnfP7ICYaQdK+A/Fggj7ViB4D95DeU1lNfgP90Sp37PLeE/QRhpxwqE4T+kHSsQRtrhPwgj7ViBMOI/bCivobyG4j/PLXHq99ziPzMzMzMzM+M/lzj1e26J4z/7PbfEqd/jP15DeQ3lNeQ/wkg7ViCM5D8mTv2eW+LkP4lTv+eWOOU/7ViBMNKO5T9RXkN5DeXlP7VjBcJIO+Y/GGnHCoSR5j98bolTv+fmP+BzS5z6Pec/Q3kN5TWU5z+nfs8tcernPwuEkXasQOg/bolTv+eW6D/SjhUII+3oPzaU11BeQ+k/mpmZmZmZ6T/9nlvi1O/pP2GkHSsQRuo/xanfc0uc6j8or6G8hvLqP4y0YwXCSOs/8LklTv2e6z9Uv+eWOPXrP7fEqd9zS+w/G8prKK+h7D9/zy1x6vfsP+LU77klTu0/RtqxAmGk7T+q33NLnPrtPw3lNZTXUO4/cer33BKn7j/V77klTv3uPzn1e26JU+8/nPo9t8Sp7z8AAAAAAADwPw==\",\"dtype\":\"float64\",\"shape\":[95]}},\"selected\":{\"id\":\"1475\",\"type\":\"Selection\"},\"selection_policy\":{\"id\":\"1476\",\"type\":\"UnionRenderers\"}},\"id\":\"1454\",\"type\":\"ColumnDataSource\"},{\"attributes\":{\"active_drag\":\"auto\",\"active_inspect\":\"auto\",\"active_multi\":null,\"active_scroll\":\"auto\",\"active_tap\":\"auto\",\"tools\":[{\"id\":\"1420\",\"type\":\"PanTool\"},{\"id\":\"1421\",\"type\":\"WheelZoomTool\"},{\"id\":\"1422\",\"type\":\"BoxZoomTool\"},{\"id\":\"1423\",\"type\":\"SaveTool\"},{\"id\":\"1424\",\"type\":\"ResetTool\"},{\"id\":\"1425\",\"type\":\"HelpTool\"}]},\"id\":\"1426\",\"type\":\"Toolbar\"},{\"attributes\":{\"text\":\"\"},\"id\":\"1444\",\"type\":\"Title\"},{\"attributes\":{\"fill_color\":{\"value\":\"#0571b0\"},\"line_color\":{\"value\":\"#0571b0\"},\"x\":{\"field\":\"x\"},\"y\":{\"field\":\"y\"}},\"id\":\"1434\",\"type\":\"Circle\"},{\"attributes\":{\"fill_alpha\":0.3,\"fill_color\":\"#0571b0\",\"line_alpha\":0.3,\"line_color\":\"#0571b0\",\"x\":{\"field\":\"x\"},\"y\":{\"field\":\"y\"}},\"id\":\"1439\",\"type\":\"Patch\"},{\"attributes\":{},\"id\":\"1522\",\"type\":\"UnionRenderers\"},{\"attributes\":{},\"id\":\"1420\",\"type\":\"PanTool\"},{\"attributes\":{},\"id\":\"1445\",\"type\":\"BasicTickFormatter\"},{\"attributes\":{\"data_source\":{\"id\":\"1433\",\"type\":\"ColumnDataSource\"},\"glyph\":{\"id\":\"1434\",\"type\":\"Circle\"},\"hover_glyph\":null,\"muted_glyph\":null,\"nonselection_glyph\":{\"id\":\"1435\",\"type\":\"Circle\"},\"selection_glyph\":null,\"view\":{\"id\":\"1437\",\"type\":\"CDSView\"}},\"id\":\"1436\",\"type\":\"GlyphRenderer\"},{\"attributes\":{},\"id\":\"1421\",\"type\":\"WheelZoomTool\"},{\"attributes\":{\"callback\":null},\"id\":\"1402\",\"type\":\"DataRange1d\"},{\"attributes\":{\"overlay\":{\"id\":\"1449\",\"type\":\"BoxAnnotation\"}},\"id\":\"1422\",\"type\":\"BoxZoomTool\"},{\"attributes\":{\"callback\":null,\"data\":{\"x\":{\"__ndarray__\":\"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\",\"dtype\":\"float64\",\"shape\":[211]},\"y\":{\"__ndarray__\":\"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\",\"dtype\":\"float64\",\"shape\":[211]}},\"selected\":{\"id\":\"1450\",\"type\":\"Selection\"},\"selection_policy\":{\"id\":\"1451\",\"type\":\"UnionRenderers\"}},\"id\":\"1433\",\"type\":\"ColumnDataSource\"},{\"attributes\":{\"fill_alpha\":{\"value\":0.1},\"fill_color\":{\"value\":\"#1f77b4\"},\"line_alpha\":{\"value\":0.1},\"line_color\":{\"value\":\"#1f77b4\"},\"x\":{\"field\":\"x\"},\"y\":{\"field\":\"y\"}},\"id\":\"1456\",\"type\":\"Circle\"},{\"attributes\":{\"callback\":null},\"id\":\"1404\",\"type\":\"DataRange1d\"},{\"attributes\":{},\"id\":\"1423\",\"type\":\"SaveTool\"},{\"attributes\":{},\"id\":\"1406\",\"type\":\"LinearScale\"},{\"attributes\":{\"label\":{\"value\":\"labeled\"},\"renderers\":[{\"id\":\"1441\",\"type\":\"GlyphRenderer\"}]},\"id\":\"1453\",\"type\":\"LegendItem\"},{\"attributes\":{},\"id\":\"1424\",\"type\":\"ResetTool\"},{\"attributes\":{\"callback\":null,\"data\":{\"x\":{\"__ndarray__\":\"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\",\"dtype\":\"float64\",\"shape\":[190]},\"y\":{\"__ndarray__\":\"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\",\"dtype\":\"float64\",\"shape\":[190]}},\"selected\":{\"id\":\"1521\",\"type\":\"Selection\"},\"selection_policy\":{\"id\":\"1522\",\"type\":\"UnionRenderers\"}},\"id\":\"1459\",\"type\":\"ColumnDataSource\"},{\"attributes\":{},\"id\":\"1425\",\"type\":\"HelpTool\"},{\"attributes\":{\"source\":{\"id\":\"1459\",\"type\":\"ColumnDataSource\"}},\"id\":\"1463\",\"type\":\"CDSView\"},{\"attributes\":{\"fill_alpha\":0.1,\"fill_color\":\"#1f77b4\",\"line_alpha\":0.1,\"line_color\":\"#1f77b4\",\"x\":{\"field\":\"x\"},\"y\":{\"field\":\"y\"}},\"id\":\"1461\",\"type\":\"Patch\"},{\"attributes\":{},\"id\":\"1408\",\"type\":\"LinearScale\"},{\"attributes\":{\"callback\":null,\"data\":{\"x\":{\"__ndarray__\":\"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\",\"dtype\":\"float64\",\"shape\":[422]},\"y\":{\"__ndarray__\":\"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\",\"dtype\":\"float64\",\"shape\":[422]}},\"selected\":{\"id\":\"1473\",\"type\":\"Selection\"},\"selection_policy\":{\"id\":\"1474\",\"type\":\"UnionRenderers\"}},\"id\":\"1438\",\"type\":\"ColumnDataSource\"},{\"attributes\":{\"data_source\":{\"id\":\"1459\",\"type\":\"ColumnDataSource\"},\"glyph\":{\"id\":\"1460\",\"type\":\"Patch\"},\"hover_glyph\":null,\"muted_glyph\":null,\"nonselection_glyph\":{\"id\":\"1461\",\"type\":\"Patch\"},\"selection_glyph\":null,\"view\":{\"id\":\"1463\",\"type\":\"CDSView\"}},\"id\":\"1462\",\"type\":\"GlyphRenderer\"},{\"attributes\":{},\"id\":\"1473\",\"type\":\"Selection\"},{\"attributes\":{\"axis_label\":\"time to catastrophe (s)\",\"formatter\":{\"id\":\"1447\",\"type\":\"BasicTickFormatter\"},\"ticker\":{\"id\":\"1411\",\"type\":\"BasicTicker\"}},\"id\":\"1410\",\"type\":\"LinearAxis\"},{\"attributes\":{\"fill_alpha\":0.3,\"fill_color\":\"#ca0020\",\"line_alpha\":0.3,\"line_color\":\"#ca0020\",\"x\":{\"field\":\"x\"},\"y\":{\"field\":\"y\"}},\"id\":\"1460\",\"type\":\"Patch\"},{\"attributes\":{},\"id\":\"1416\",\"type\":\"BasicTicker\"},{\"attributes\":{\"fill_color\":{\"value\":\"#ca0020\"},\"line_color\":{\"value\":\"#ca0020\"},\"x\":{\"field\":\"x\"},\"y\":{\"field\":\"y\"}},\"id\":\"1455\",\"type\":\"Circle\"},{\"attributes\":{},\"id\":\"1521\",\"type\":\"Selection\"},{\"attributes\":{},\"id\":\"1411\",\"type\":\"BasicTicker\"},{\"attributes\":{\"items\":[{\"id\":\"1453\",\"type\":\"LegendItem\"},{\"id\":\"1477\",\"type\":\"LegendItem\"}],\"location\":\"bottom_right\"},\"id\":\"1452\",\"type\":\"Legend\"}],\"root_ids\":[\"1401\"]},\"title\":\"Bokeh Application\",\"version\":\"1.4.0\"}};\n",
       "  var render_items = [{\"docid\":\"33e093c3-c1c3-4f7e-83ec-373578fc78db\",\"roots\":{\"1401\":\"ae1b2eac-0c44-4fa9-86b6-9abc02237fe0\"}}];\n",
       "  root.Bokeh.embed.embed_items_notebook(docs_json, render_items);\n",
       "\n",
       "  }\n",
       "  if (root.Bokeh !== undefined) {\n",
       "    embed_document(root);\n",
       "  } else {\n",
       "    var attempts = 0;\n",
       "    var timer = setInterval(function(root) {\n",
       "      if (root.Bokeh !== undefined) {\n",
       "        clearInterval(timer);\n",
       "        embed_document(root);\n",
       "      } else {\n",
       "        attempts++;\n",
       "        if (attempts > 100) {\n",
       "          clearInterval(timer);\n",
       "          console.log(\"Bokeh: ERROR: Unable to run BokehJS code because BokehJS library is missing\");\n",
       "        }\n",
       "      }\n",
       "    }, 10, root)\n",
       "  }\n",
       "})(window);"
      ],
      "application/vnd.bokehjs_exec.v0+json": ""
     },
     "metadata": {
      "application/vnd.bokehjs_exec.v0+json": {
       "id": "1401"
      }
     },
     "output_type": "display_data"
    }
   ],
   "source": [
    "p = bokeh.plotting.figure(height=300, \n",
    "                          width=400)\n",
    "\n",
    "p.circle(np.sort(labeled), np.arange(1, len(labeled) + 1) / len(labeled), color=palette[0])\n",
    "p.patch(x=np.concatenate((x_labeled, x_labeled[::-1])), \n",
    "        y=np.concatenate((lower_labeled, upper_labeled[::-1])), \n",
    "        legend_label='labeled',\n",
    "        alpha=0.3,\n",
    "        color=palette[0])\n",
    "\n",
    "p.circle(np.sort(unlabeled), np.arange(1, len(unlabeled) + 1) / len(unlabeled), color=palette[-1])\n",
    "p.patch(x=np.concatenate((x_unlabeled, x_unlabeled[::-1])), \n",
    "        y=np.concatenate((lower_unlabeled, upper_unlabeled[::-1])),\n",
    "        legend_label='unlabeled',\n",
    "        alpha=0.3,\n",
    "        color=palette[-1])\n",
    "\n",
    "p.legend.location = 'bottom_right'\n",
    "p.xaxis[0].axis_label = 'time to catastrophe (s)'\n",
    "p.yaxis[0].axis_label = 'ECDF'\n",
    "\n",
    "bokeh.io.show(p)"
   ]
  },
  {
   "cell_type": "markdown",
   "metadata": {},
   "source": [
    "This is similar to the result we got in part a) when plotting the confidence intervals of ECDFs via bootstrapping. Since the original ECDFs are the same, again we see that they are close to each other, but moreover, the shaded region shows a lot of overlap both here and in the ECDF in part a)."
   ]
  },
  {
   "cell_type": "markdown",
   "metadata": {},
   "source": [
    "## Computing Environment"
   ]
  },
  {
   "cell_type": "code",
   "execution_count": 13,
   "metadata": {},
   "outputs": [
    {
     "name": "stdout",
     "output_type": "stream",
     "text": [
      "CPython 3.7.4\n",
      "IPython 7.9.0\n",
      "\n",
      "numpy 1.17.3\n",
      "pandas 0.25.2\n",
      "numba 0.46.0\n",
      "scipy 1.3.1\n",
      "bokeh 1.4.0\n",
      "bokeh_catplot 0.1.6\n",
      "\n",
      "compiler   : Clang 4.0.1 (tags/RELEASE_401/final)\n",
      "system     : Darwin\n",
      "release    : 19.0.0\n",
      "machine    : x86_64\n",
      "processor  : i386\n",
      "CPU cores  : 4\n",
      "interpreter: 64bit\n"
     ]
    }
   ],
   "source": [
    "%load_ext watermark\n",
    "%watermark -v -p numpy,pandas,numba,scipy,bokeh,bokeh_catplot -m"
   ]
  }
 ],
 "metadata": {
  "kernelspec": {
   "display_name": "Python 3",
   "language": "python",
   "name": "python3"
  },
  "language_info": {
   "codemirror_mode": {
    "name": "ipython",
    "version": 3
   },
   "file_extension": ".py",
   "mimetype": "text/x-python",
   "name": "python",
   "nbconvert_exporter": "python",
   "pygments_lexer": "ipython3",
   "version": "3.6.8"
  }
 },
 "nbformat": 4,
 "nbformat_minor": 4
}
